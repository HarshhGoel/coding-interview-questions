{
 "cells": [
  {
   "cell_type": "markdown",
   "id": "bb76399e",
   "metadata": {},
   "source": [
    "You are given a word consisting of only English alphabets (uppercase or lowercase). Your task is to calculate a score based on the following rules:\n",
    "Count the number of vowels in the word.\n",
    "If the number of vowels is even, award 2 points.\n",
    "If the number of vowels is odd, award 3 points.\n",
    "Count the number of consonants in the word.\n",
    "If the number of consonants is even, award 4 points.\n",
    "If the number of consonants is odd, award 5 points.\n",
    "Print the total score obtained."
   ]
  },
  {
   "cell_type": "code",
   "execution_count": null,
   "id": "cf838645",
   "metadata": {},
   "outputs": [
    {
     "name": "stdout",
     "output_type": "stream",
     "text": [
      "The sum up answer is 7\n"
     ]
    }
   ],
   "source": [
    "#Accepting the string from the user and then solving the question\n",
    "n,m=0,0\n",
    "def alphabet(num=0):\n",
    "    list1=(\"a\",\"i\",\"e\",\"o\",\"u\")\n",
    "    str1=input(\"Enter the String \")\n",
    "    str=str1.lower()\n",
    "    for a in str:\n",
    "        if a in list1:\n",
    "            num+=1\n",
    "    if num %2==0:\n",
    "        m=2\n",
    "    else:\n",
    "        m=3\n",
    "    for a in str:\n",
    "        if a not in list1:\n",
    "            num+=1\n",
    "    if num %2==0:\n",
    "        n=4\n",
    "    else:\n",
    "        n=5\n",
    "    print (f\"The sum up answer is {m+n}\")\n",
    "x=alphabet()\n",
    "    \n"
   ]
  },
  {
   "cell_type": "markdown",
   "id": "cffcb10a",
   "metadata": {},
   "source": [
    "\n",
    "1. String-based Questions (very common 💯)\n",
    "Palindrome Check → Check if a string reads the same backward.\n",
    "Anagram Check → Two strings contain the same characters (e.g., \"listen\" & \"silent\").\n",
    "Reverse a String → Without using built-in reverse.\n",
    "Count Vowels & Consonants → Like the one you just got.\n",
    "Check Pangram → A sentence containing all letters A–Z.\n",
    "Check Substring → Is one string part of another?\n",
    "Find Duplicate Characters → Count frequency of each character.\n",
    "Remove Spaces / Special Characters.\n",
    "Check Rotation → \"abcde\" is rotation of \"deabc\".\n",
    "Longest Palindrome Substring (for harder rounds).\n",
    "\n",
    "2. Number-based Questions\n",
    "Armstrong Number → e.g., 153 = 1³ + 5³ + 3³.\n",
    "Prime Number Check.\n",
    "Fibonacci Series → Print first N terms.\n",
    "Factorial of a Number.\n",
    "Perfect Number → Sum of divisors = number.\n",
    "Strong Number → Sum of factorial of digits = number.\n",
    "Reverse a Number.\n",
    "Palindrome Number → 121 → same backward.\n",
    "Sum of Digits → Repeated until single digit.\n",
    "LCM & GCD.\n",
    "Check for Anagram"
   ]
  },
  {
   "cell_type": "code",
   "execution_count": null,
   "id": "a9cc281c",
   "metadata": {},
   "outputs": [
    {
     "name": "stdout",
     "output_type": "stream",
     "text": [
      "Entered number is a palindrome\n"
     ]
    }
   ],
   "source": [
    "# Palindrome Check → Check if a string reads the same backward.\n",
    "def palindrome():\n",
    "    string1=input(\"Enter the String\")\n",
    "    revstring=string1[::-1] # here we have used the method of slicing\n",
    "    if string1==revstring:\n",
    "        print(\"Entered number is a palindrome\")\n",
    "    else:\n",
    "        print(\"Entered number is not a palindrom\")\n",
    "\n",
    "x=palindrome()\n"
   ]
  },
  {
   "cell_type": "code",
   "execution_count": 15,
   "id": "4f8a18f2",
   "metadata": {},
   "outputs": [
    {
     "name": "stdout",
     "output_type": "stream",
     "text": [
      "Entered number is not a palindrom\n"
     ]
    }
   ],
   "source": [
    "# Palindrome Check → Check if a number reads the same backward.\n",
    "def palindrome():\n",
    "    string1=input(\"Enter the String\")\n",
    "    revstring=string1[::-1]\n",
    "    if int(string1)==int(revstring):\n",
    "        print(\"Entered number is a palindrome\")\n",
    "    else:\n",
    "        print(\"Entered number is not a palindrom\")\n",
    "\n",
    "x=palindrome()"
   ]
  },
  {
   "cell_type": "code",
   "execution_count": 27,
   "id": "eadf80af",
   "metadata": {},
   "outputs": [
    {
     "name": "stdout",
     "output_type": "stream",
     "text": [
      "hsrah\n"
     ]
    }
   ],
   "source": [
    "#Reverse a String → Without using built-in reverse\n",
    "def reverse():\n",
    "    rev=''\n",
    "    string1=input(\"Enter the string\")\n",
    "    for a in string1:\n",
    "        rev=a+rev\n",
    "    print(rev)\n",
    "x=reverse()\n"
   ]
  },
  {
   "cell_type": "code",
   "execution_count": 32,
   "id": "69a4615e",
   "metadata": {},
   "outputs": [
    {
     "name": "stdout",
     "output_type": "stream",
     "text": [
      "The entered String is  harsh12\n",
      "The number of vowels are 1 and the number of consonant are 4\n"
     ]
    }
   ],
   "source": [
    "# Count Vowels & Consonants → Like the one you just got.\n",
    "def alphabett():\n",
    "    num=0\n",
    "    num2=0\n",
    "    string=input(\"Enter the String\").lower()\n",
    "    print('The entered String is ',string)\n",
    "    vowels=(\"a\",\"i\",\"e\",\"o\",\"u\")\n",
    "    for a in string:\n",
    "        if a.isalpha():\n",
    "         if a in vowels:\n",
    "            num+=1\n",
    "         if a not in vowels:\n",
    "            num2+=1\n",
    "    print(f\"The number of vowels are {num} and the number of consonant are {num2}\")\n",
    "x=alphabett()"
   ]
  },
  {
   "cell_type": "code",
   "execution_count": 36,
   "id": "c4d0df2c",
   "metadata": {},
   "outputs": [
    {
     "name": "stdout",
     "output_type": "stream",
     "text": [
      "This is a substring , such that first string is a substring of the other string\n"
     ]
    }
   ],
   "source": [
    "# Check Substring → Is one string part of another?\n",
    "def substring():\n",
    "    string=input(\"Enter the String\")\n",
    "    string2=input(\"Enter the another string\")\n",
    "    if string in string2:\n",
    "        print(\"This is a substring , such that first string is a substring of the other string\")\n",
    "    else:\n",
    "        print(\"first string is not a substring of another\")\n",
    "x=substring()\n",
    "    "
   ]
  },
  {
   "cell_type": "code",
   "execution_count": null,
   "id": "c079efc2",
   "metadata": {},
   "outputs": [
    {
     "name": "stdout",
     "output_type": "stream",
     "text": [
      "The frequency of character h  is 2\n"
     ]
    }
   ],
   "source": [
    "# Find Duplicate Characters → Count frequency of each character.\n",
    "def count():\n",
    "    string1=input(\"Enter the String\")\n",
    "#Here i am thinking to use an idology in which i will accept the string from the user and store the values in set\n",
    "    checked=set()\n",
    "    for a in string1:\n",
    "        if a.isalpha() and a not in checked:\n",
    "            freq=string1.count(a)\n",
    "            if freq>1:\n",
    "                print(f\"The frequency of character {a}  is {freq}\")\n",
    "        checked.add(a)\n",
    "x=count()"
   ]
  },
  {
   "cell_type": "code",
   "execution_count": 3,
   "id": "fb27ca18",
   "metadata": {},
   "outputs": [
    {
     "name": "stdout",
     "output_type": "stream",
     "text": [
      "harsh\n"
     ]
    }
   ],
   "source": [
    "#Remove Spaces / Special Characters.\n",
    "def space():\n",
    "    string1=input(\"Enter the String from which you want to remove the space\")\n",
    "    try:\n",
    "        string2=string1.replace(\" \",\"\")\n",
    "        print(string2)\n",
    "    except Exception as e:\n",
    "        print(\"Inavlid input \",e)\n",
    "x=space()\n"
   ]
  },
  {
   "cell_type": "code",
   "execution_count": 16,
   "id": "401e68d4",
   "metadata": {},
   "outputs": [
    {
     "name": "stdout",
     "output_type": "stream",
     "text": [
      "This is not a rotation\n"
     ]
    }
   ],
   "source": [
    "# Check Rotation → \"abcde\" is rotation of \"deabc\".\n",
    "# i am assuming an idology here where if a string is str=abcd,and the rotation is str2=cdab,so str1 is a subset of str1+str2 \n",
    "def rotation():\n",
    "    try:\n",
    "     \n",
    "     str1=input(\"Enter the String\")\n",
    "     str2=input(\"Enter the rotation\")\n",
    "     str3=str1+str1\n",
    "     if len(str1)!=len(str2):\n",
    "      print(\"The length differs\")\n",
    "     if str2 in str3:\n",
    "         print(\"This is the correct rotation\")\n",
    "     else:\n",
    "         print(\"This is not a rotation\")\n",
    "    except Exception as e:\n",
    "      print(\"Invalid input as\",e)\n",
    "x=rotation()\n"
   ]
  },
  {
   "cell_type": "code",
   "execution_count": null,
   "id": "5c58f0ef",
   "metadata": {},
   "outputs": [
    {
     "name": "stdout",
     "output_type": "stream",
     "text": [
      "The entered number is 153\n",
      "Its a Armstrong number\n"
     ]
    }
   ],
   "source": [
    "# Armstrong Number → e.g., 153 = 1³ + 5³ + 3³.\n",
    "def armstrong():\n",
    "    try:\n",
    "        num=input(\"Enter the number\")\n",
    "        total=0\n",
    "        lengthnum=len(num)\n",
    "        num2=int(num)\n",
    "        print(\"The entered number is\",num)\n",
    "        for a in num:\n",
    "            total+= int(a)**lengthnum\n",
    "        if total==num2:\n",
    "                print(\"Its a Armstrong number\")\n",
    "        else:\n",
    "                print(\"Its not a Armstrong numbr\")\n",
    "            \n",
    "    except Exception as e:\n",
    "        print(\"Invalid input \",e)\n",
    "x=armstrong()    \n",
    "    "
   ]
  },
  {
   "cell_type": "code",
   "execution_count": 31,
   "id": "d5459b35",
   "metadata": {},
   "outputs": [
    {
     "name": "stdout",
     "output_type": "stream",
     "text": [
      "The number entered is  5\n",
      "The number is a prime number\n"
     ]
    }
   ],
   "source": [
    "# Prime Number Check.\n",
    "#fav thing to do\n",
    "def prime():\n",
    "    try:\n",
    "     num=int(input(\"Enter the Number\"))\n",
    "     print(\"The number entered is \",num)\n",
    "     if num>1:\n",
    "        for a in range(2,num):\n",
    "           if num%a==0:\n",
    "              print(\"Its not a prime number\")\n",
    "              break\n",
    "        else:\n",
    "         print(\"The number is a prime number\")\n",
    "    except Exception as e:\n",
    "       print(\"Invalid input\",e)\n",
    "x=prime()\n",
    "\n"
   ]
  },
  {
   "cell_type": "code",
   "execution_count": 45,
   "id": "7fa19621",
   "metadata": {},
   "outputs": [
    {
     "name": "stdout",
     "output_type": "stream",
     "text": [
      "0 1 1 2 3 "
     ]
    }
   ],
   "source": [
    "# Fibonacci Series → Print first N terms.\n",
    "# fibonacci series are 0,1,1,2,3,5\n",
    "def fibonacci():\n",
    "    try:\n",
    "        n=int(input(\"Enter the value of n\"))\n",
    "        a,b=0,1\n",
    "        print(a,b,end=' ')\n",
    "        for m in range(2,n):\n",
    "            su=a+b\n",
    "            a=b\n",
    "            b=su\n",
    "            print(su,end=\" \")\n",
    "    except Exception as e:\n",
    "        print(\"Invalid output\",e)\n",
    "x=fibonacci()\n",
    "\n"
   ]
  },
  {
   "cell_type": "code",
   "execution_count": 51,
   "id": "76ea8894",
   "metadata": {},
   "outputs": [
    {
     "name": "stdout",
     "output_type": "stream",
     "text": [
      "Factorial is  120\n"
     ]
    }
   ],
   "source": [
    "# Factorial of a Number\n",
    "#Here i have to design the code for the factorial purpose\n",
    "#Factorial means = 5=5*4*3*2*1\n",
    "def factorial():\n",
    "    try:\n",
    "        num=1\n",
    "        inp=int(input(\"Enter the Number\"))\n",
    "        for a in range(1,inp+1):\n",
    "            num=a*num\n",
    "        print(\"Factorial is \",num)\n",
    "    except Exception as e:\n",
    "        print(\"Invalid input\",e)\n",
    "x=factorial()\n",
    "\n"
   ]
  },
  {
   "cell_type": "code",
   "execution_count": 59,
   "id": "4f9ebc01",
   "metadata": {},
   "outputs": [
    {
     "name": "stdout",
     "output_type": "stream",
     "text": [
      "The number is a perfect Number \n"
     ]
    }
   ],
   "source": [
    "# Perfect Number → Sum of divisors = number.\n",
    "def perfect():\n",
    "    inp=int(input(\"Entet the Number\"))\n",
    "    num=0\n",
    "    for a in range(1,inp):\n",
    "        if inp%a==0:\n",
    "            num=num+a\n",
    "    if num==inp:\n",
    "     print(\"The number is a perfect Number \")\n",
    "x=perfect()"
   ]
  },
  {
   "cell_type": "code",
   "execution_count": null,
   "id": "899d176a",
   "metadata": {},
   "outputs": [
    {
     "name": "stdout",
     "output_type": "stream",
     "text": [
      "Invalid input invalid literal for int() with base 10: 'f'\n"
     ]
    }
   ],
   "source": [
    "# Strong Number =Sum of factorial of digits=number\n",
    "#145=1,4,5=1,24,120\n",
    "def strong():\n",
    "    try:\n",
    "        num2,num,total=1,0,0\n",
    "        inp=input(\"Enter the Number \")\n",
    "        for a in inp:\n",
    "            num=int(a)\n",
    "            num2=1\n",
    "            for m in range(1,num+1):\n",
    "                num2=num2*m\n",
    "            total=total+num2\n",
    "        if int(inp)==total:\n",
    "            print(\"Its a Strong number\")\n",
    "        else:\n",
    "            print(\"This is not a strong number\")\n",
    "    except Exception as e:\n",
    "        print(\"Invalid input\" , e)\n",
    "x=strong()"
   ]
  },
  {
   "cell_type": "code",
   "execution_count": 75,
   "id": "25747b12",
   "metadata": {},
   "outputs": [
    {
     "name": "stdout",
     "output_type": "stream",
     "text": [
      "The number after reversing is  541\n"
     ]
    }
   ],
   "source": [
    "#Reverse a Number.\n",
    "#its almost same as the reversing the string\n",
    "def reverse():\n",
    "    inp=input(\"Enter the Number\")\n",
    "    rev=inp[::-1]\n",
    "    inp2=int(rev)\n",
    "    print(\"The number after reversing is \",inp2)\n",
    "x=reverse()"
   ]
  },
  {
   "cell_type": "code",
   "execution_count": 78,
   "id": "0ded7ff6",
   "metadata": {},
   "outputs": [
    {
     "name": "stdout",
     "output_type": "stream",
     "text": [
      "This is not a palindrom number\n"
     ]
    }
   ],
   "source": [
    "#Palindrome Number → 121 → same backward.\n",
    "def palindrom():\n",
    "    inp=input(\"Enter the number\")\n",
    "    rev=inp[::-1]\n",
    "    inp2=int(rev)\n",
    "    if int(inp)==inp2:\n",
    "        print(\"This is a palindrom number\")\n",
    "    else:\n",
    "        print(\"This is not a palindrom number\")\n",
    "x=palindrom()"
   ]
  },
  {
   "cell_type": "code",
   "execution_count": 82,
   "id": "fc644fe9",
   "metadata": {},
   "outputs": [
    {
     "name": "stdout",
     "output_type": "stream",
     "text": [
      "2\n"
     ]
    }
   ],
   "source": [
    "# Sum of Digits → Repeated until single digit.\n",
    "def sumof():\n",
    "    inp=input(\"Enter the Number\")\n",
    "    total,total2,total3=0,0,0\n",
    "    for a in inp:\n",
    "        total=total+int(a)\n",
    "    i=str(total)\n",
    "    if len(i)>1:\n",
    "     for m in i:\n",
    "        total2=total2+int(m)\n",
    "    s=str(total2)\n",
    "    if len(s)>1:\n",
    "       for x in s:\n",
    "        total3=total3+int(x)\n",
    "    print(total3)\n",
    "g=sumof()"
   ]
  },
  {
   "cell_type": "code",
   "execution_count": 85,
   "id": "f22146af",
   "metadata": {},
   "outputs": [
    {
     "name": "stdout",
     "output_type": "stream",
     "text": [
      "This is not a Anagram Words\n"
     ]
    }
   ],
   "source": [
    "# code for anagram\n",
    "def anagram():\n",
    "    try:\n",
    "        inpt=input(\"Enter the String\").lower()\n",
    "        inpt2=input(\"Ente the input2\").lower()\n",
    "        if sorted(inpt)==sorted(inpt2):\n",
    "            print(\"This is a Anagram words\")\n",
    "        else:\n",
    "            print(\"This is not a Anagram Words\")\n",
    "    except Exception as e:\n",
    "        print(\"Invalid Input\",e)\n",
    "x=anagram()\n",
    "            \n",
    "        \n"
   ]
  },
  {
   "cell_type": "code",
   "execution_count": null,
   "id": "eef398e6",
   "metadata": {},
   "outputs": [],
   "source": []
  }
 ],
 "metadata": {
  "kernelspec": {
   "display_name": "Python 3",
   "language": "python",
   "name": "python3"
  },
  "language_info": {
   "codemirror_mode": {
    "name": "ipython",
    "version": 3
   },
   "file_extension": ".py",
   "mimetype": "text/x-python",
   "name": "python",
   "nbconvert_exporter": "python",
   "pygments_lexer": "ipython3",
   "version": "3.13.5"
  }
 },
 "nbformat": 4,
 "nbformat_minor": 5
}
